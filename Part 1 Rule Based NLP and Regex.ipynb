{
 "cells": [
  {
   "cell_type": "markdown",
   "id": "7f2775c7-35d5-4588-a8a0-b00d255456c2",
   "metadata": {},
   "source": [
    "# Lab"
   ]
  },
  {
   "cell_type": "markdown",
   "id": "f295ef6e-c878-4938-8b82-16063a4cfb59",
   "metadata": {},
   "source": [
    "##### Objective : The main purpose behind this lab is to get familiar with NLP Rule based and Regex."
   ]
  },
  {
   "cell_type": "markdown",
   "id": "f0289fc2-701f-48e4-b598-f133b8c2d55b",
   "metadata": {},
   "source": [
    "## Part 1: Rule Based NLP and Regex:"
   ]
  },
  {
   "cell_type": "markdown",
   "id": "ed51bc8f-55fc-44c6-96b6-757c67f59b65",
   "metadata": {},
   "source": [
    "Using Regex write a python code that can generate bill from a text given by user.\n",
    "Use case:\n",
    "“I bought three Samsung smartphones 150 $ each, four kilos of fresh banana for 1,2 dollar a\n",
    "kilogram and one Hamburger with 4,5 dollar”.\n",
    "\n",
    "Generated Bill :\n",
    "\n",
    "Product Quantity Unit Price Total Price \n",
    "\n",
    "Samsung smart phone 3 150 450\n",
    "\n",
    "Banana 4 1,2 3,2\n",
    "\n",
    "Hamburger 1 4,5 4,5"
   ]
  },
  {
   "cell_type": "code",
   "execution_count": 130,
   "id": "143c544c-4d44-40a0-ae01-afd7519ce0df",
   "metadata": {},
   "outputs": [],
   "source": [
    "from nltk.corpus import stopwords\n",
    "\n",
    "def preprocess_text(text):\n",
    "    # Define a list of stop words and unnecessary phrases to remove\n",
    "    stop_words = set(stopwords.words('english'))\n",
    "    unnecessary_phrases = ['for', 'each', 'a', 'an', 'the', 'with', 'I', 'of', 'dollar']\n",
    "    measurements = ['kilos', 'kilograms', 'kilogram', 'grams', 'pounds', 'liters', 'milliliters', 'ounces', 'gallons', 'units']\n",
    "\n",
    "    # Split the text into words\n",
    "    words = text.split()\n",
    "\n",
    "    # Remove stop words and unnecessary phrases\n",
    "    preprocessed_words = [word for word in words if word not in stop_words and word not in unnecessary_phrases and word not in measurements]\n",
    "\n",
    "    # Join the words back into a text string\n",
    "    preprocessed_text = ' '.join(preprocessed_words)\n",
    "\n",
    "    return preprocessed_text"
   ]
  },
  {
   "cell_type": "markdown",
   "id": "b924539d-4da1-4aff-a99e-7ce73b1f2848",
   "metadata": {},
   "source": [
    "### 1- Python Regex"
   ]
  },
  {
   "cell_type": "code",
   "execution_count": 131,
   "id": "05a938ca-d4e3-4981-9657-d685a88c9dc4",
   "metadata": {},
   "outputs": [
    {
     "name": "stdout",
     "output_type": "stream",
     "text": [
      "Generated Bill:\n",
      "\n",
      "Product              Quantity   Unit Price Total Price\n",
      "Samsung smartphones  3          150.0      450.0\n",
      "fresh banana         4          1.2        4.8\n",
      "Hamburger            1          4.5        4.5\n",
      "\n",
      "Total Bill: 459.3\n"
     ]
    }
   ],
   "source": [
    "import re\n",
    "from word2number import w2n\n",
    "\n",
    "def generate_bill(text):\n",
    "    # Preprocess the text\n",
    "    text = preprocess_text(text)\n",
    "\n",
    "    # Define regular expressions to match quantities, products, and prices\n",
    "    pattern = r'(\\b\\d+|\\b(?:one|two|three|four|five|six|seven|eight|nine)) ([\\w\\s]+) (\\d+(?:,\\d+)?)'\n",
    "\n",
    "    # Find all matches of quantities, products, and prices\n",
    "    matches = re.findall(pattern, text)\n",
    "\n",
    "    # Format the bill\n",
    "    bill = \"Generated Bill:\\n\\n\"\n",
    "    bill += \"{:<20} {:<10} {:<10} {}\\n\".format(\"Product\", \"Quantity\", \"Unit Price\", \"Total Price\")\n",
    "    total_bill = 0\n",
    "\n",
    "    for match in matches:\n",
    "        quantity, product, price = match\n",
    "        quantity = w2n.word_to_num(quantity) if quantity.isalpha() else int(quantity)  # Convert words to numbers\n",
    "        price = float(price.replace(',', '.'))\n",
    "        total_price = quantity * price\n",
    "        total_bill += total_price\n",
    "        bill += \"{:<20} {:<10} {:<10} {}\\n\".format(product, quantity, price, round(total_price, 2))\n",
    "\n",
    "    bill += \"\\nTotal Bill: {}\".format(round(total_bill, 2))\n",
    "    return bill\n",
    "\n",
    "# Example usage\n",
    "text = \"I bought three Samsung smartphones 150 $ each, four kilos of fresh banana for 1,2 dollar a kilogram and one Hamburger with 4,5 dollar\"\n",
    "print(generate_bill(text))"
   ]
  },
  {
   "cell_type": "markdown",
   "id": "df1c9360-6555-4d70-8944-82021d1de194",
   "metadata": {},
   "source": [
    "### 2- Similarity using Spacy.Matcher"
   ]
  },
  {
   "cell_type": "code",
   "execution_count": 132,
   "id": "7ca69baf-210c-4903-8eed-712aa4f57400",
   "metadata": {},
   "outputs": [
    {
     "name": "stdout",
     "output_type": "stream",
     "text": [
      "Generated Bill:\n",
      "Product\t\tQuantity\tUnit Price\tTotal Price\n",
      "Samsung smartphones\t3\t150.0\t450.0\n",
      "Hamburger\t1\t4.5\t4.5\n",
      "\n",
      "Total Bill: 454.5\n"
     ]
    }
   ],
   "source": [
    "import spacy\n",
    "from spacy.matcher import Matcher\n",
    "from word2number import w2n\n",
    "\n",
    "def word_to_num(word):\n",
    "    try:\n",
    "        return w2n.word_to_num(word)\n",
    "    except ValueError:\n",
    "        return word\n",
    "\n",
    "nlp = spacy.load(\"en_core_web_sm\")\n",
    "matcher = Matcher(nlp.vocab)\n",
    "\n",
    "# Updated pattern to match a number, followed by one or more words, and then a price\n",
    "pattern = [{\"LIKE_NUM\": True}, {\"IS_ALPHA\": True, \"OP\": \"+\"}, {\"IS_SPACE\": True, \"OP\": \"?\"}, {\"LIKE_NUM\": True}]\n",
    "matcher.add(\"PRODUCT_PATTERN\", [pattern])\n",
    "\n",
    "text = \"I bought three Samsung smartphones 150 $ each, four kilos of fresh banana for 1,2 dollar a kilogram and one Hamburger with 4,5 dollar\"\n",
    "preprocessed_text = preprocess_text(text)\n",
    "doc = nlp(preprocessed_text)\n",
    "matches = matcher(doc)\n",
    "\n",
    "print(\"Generated Bill:\")\n",
    "print(\"Product\\t\\tQuantity\\tUnit Price\\tTotal Price\")\n",
    "total_bill = 0\n",
    "for match_id, start, end in matches:\n",
    "    span = doc[start:end]\n",
    "    parts = span.text.split(\" \")\n",
    "    quantity = word_to_num(parts[0])\n",
    "\n",
    "    # Handle the case where the price is a word (e.g., \"one\")\n",
    "    if parts[-1].isalpha():\n",
    "        price = word_to_num(parts[-1])  # Convert to number if possible\n",
    "    else:\n",
    "        price = float(parts[-1].replace(\",\", \".\"))\n",
    "\n",
    "    # Ensure quantity is always a number\n",
    "    quantity = word_to_num(quantity)\n",
    "\n",
    "    # Only multiply if both quantity and price are numbers\n",
    "    if isinstance(quantity, (int, float)) and isinstance(price, (int, float)):\n",
    "        total_price = quantity * price\n",
    "    else:\n",
    "        total_price = price\n",
    "\n",
    "    product = \" \".join(parts[1:-1])\n",
    "    \n",
    "    # Check if the product name starts with a lowercase letter (indicating a separate product)\n",
    "    if not product.split()[0].islower():\n",
    "        print(f\"{product}\\t{quantity}\\t{price}\\t{total_price}\")\n",
    "        total_bill += total_price\n",
    "\n",
    "print(\"\\nTotal Bill:\", total_bill)\n"
   ]
  },
  {
   "cell_type": "code",
   "execution_count": 133,
   "id": "2197f66f-3b95-4405-8ff4-5d3a4d0c6299",
   "metadata": {},
   "outputs": [
    {
     "name": "stdout",
     "output_type": "stream",
     "text": [
      "Generated Bill:\n",
      "Product\t\tQuantity\tUnit Price\tTotal Price\n",
      "fresh banana\t4\t1.2\t4.8\n",
      "Hamburger\t1\t4.5\t4.5\n",
      "\n",
      "Total Bill: 9.3\n"
     ]
    }
   ],
   "source": [
    "import spacy\n",
    "from spacy.matcher import Matcher\n",
    "from word2number import w2n\n",
    "\n",
    "def word_to_num(word):\n",
    "    try:\n",
    "        return w2n.word_to_num(word)\n",
    "    except ValueError:\n",
    "        return word\n",
    "\n",
    "nlp = spacy.load(\"en_core_web_sm\")\n",
    "matcher = Matcher(nlp.vocab)\n",
    "pattern = [{\"IS_ALPHA\": False}, {\"LIKE_NUM\": True}, {\"IS_ALPHA\": True, \"OP\": \"+\"}, {\"LIKE_NUM\": True}]\n",
    "matcher.add(\"PRODUCT_PATTERN\", [pattern])\n",
    "\n",
    "text = \"I bought three Samsung smartphones 150 $ each, four kilos of fresh banana for 1,2 dollar a kilogram and one Hamburger with 4,5 dollar\"\n",
    "preprocessed_text = preprocess_text(text)\n",
    "doc = nlp(preprocessed_text)\n",
    "matches = matcher(doc)\n",
    "\n",
    "print(\"Generated Bill:\")\n",
    "print(\"Product\\t\\tQuantity\\tUnit Price\\tTotal Price\")\n",
    "total_bill = 0\n",
    "for match_id, start, end in matches:\n",
    "    span = doc[start:end]\n",
    "    parts = span.text.split(\" \")\n",
    "    quantity = word_to_num(parts[1])\n",
    "\n",
    "    # Handle the case where the price is a word (e.g., \"one\")\n",
    "    if parts[-1].isalpha():\n",
    "        price = word_to_num(parts[-1])  # Convert to number if possible\n",
    "    else:\n",
    "        price = float(parts[-1].replace(\",\", \".\"))\n",
    "\n",
    "    # Ensure quantity is always a number\n",
    "    quantity = word_to_num(quantity)\n",
    "\n",
    "    # Only multiply if both quantity and price are numbers\n",
    "    if isinstance(quantity, (int, float)) and isinstance(price, (int, float)):\n",
    "        total_price = quantity * price\n",
    "    else:\n",
    "        total_price = price\n",
    "\n",
    "    product = \" \".join(parts[2:-1])\n",
    "    print(f\"{product}\\t{quantity}\\t{price}\\t{total_price}\")\n",
    "    total_bill += total_price\n",
    "\n",
    "print(\"\\nTotal Bill:\", total_bill)\n"
   ]
  },
  {
   "cell_type": "markdown",
   "id": "6c5b8570-467c-4dd2-9cb5-08527f65dda5",
   "metadata": {},
   "source": [
    "### 3- Matching Product names"
   ]
  },
  {
   "cell_type": "code",
   "execution_count": 134,
   "id": "6a7fb002-775f-4e4f-9cb6-8b4d75fd199f",
   "metadata": {},
   "outputs": [
    {
     "name": "stdout",
     "output_type": "stream",
     "text": [
      "['fresh banana', 'hamburger', 'samsung smartphones']\n"
     ]
    }
   ],
   "source": [
    "def get_product_names(text):\n",
    "    # Read the product list from the file\n",
    "    with open('products.txt', 'r') as f:\n",
    "        product_list = [line.strip().lower() for line in f]\n",
    "    \n",
    "    text = preprocess_text(text)\n",
    "    \n",
    "    # Convert the text to lowercase\n",
    "    lower_text = text.lower()\n",
    "\n",
    "    # Identify product names\n",
    "    product_names = [product for product in product_list if product in lower_text]\n",
    "\n",
    "    return product_names\n",
    "\n",
    "# Example usage\n",
    "text = \"I bought three Samsung smartphones 150 $ each, four kilos of fresh banana for 1,2 dollar a kilogram and one Hamburger with 4,5 dollar\"\n",
    "print(get_product_names(text))"
   ]
  },
  {
   "cell_type": "code",
   "execution_count": 135,
   "id": "9ec0c2ba-21ce-4ce4-8795-91c1262d61b0",
   "metadata": {},
   "outputs": [
    {
     "name": "stdout",
     "output_type": "stream",
     "text": [
      "Generated Bill:\n",
      "\n",
      "Product\t\t\t\tQuantity\tUnit Price\tTotal Price\n",
      "Samsung smartphones\t\t3\t\t150\t\t450.0\n",
      "fresh banana\t\t4\t\t1,2\t\t4.8\n",
      "Hamburger\t\t1\t\t4,5\t\t4.5\n",
      "Total Bill: 459.3\n"
     ]
    }
   ],
   "source": [
    "def extract_info(text):\n",
    "    # Preprocess the text\n",
    "    text = preprocess_text(text)\n",
    "    product_names = get_product_names(text)\n",
    "    # Define a regex pattern for quantity (word form), product name, and price (number form)\n",
    "    pattern = r'(\\w+)\\s+(' + '|'.join(map(re.escape, product_names)) + r')\\s+([\\d,]+(?:\\.\\d+)?)'\n",
    "    # Find matches in the text\n",
    "    matches = re.findall(pattern, text, re.IGNORECASE)\n",
    "    # Convert quantity from word form to number form\n",
    "    matches = [(w2n.word_to_num(quantity) if quantity.isalpha() and quantity in ['one', 'two', 'three', 'four', 'five', 'six', 'seven', 'eight', 'nine'] else quantity, product, price) for quantity, product, price in matches if quantity.isdigit() or quantity in ['one', 'two', 'three', 'four', 'five', 'six', 'seven', 'eight', 'nine']]\n",
    "    # Create the bill\n",
    "    bill = \"Generated Bill:\\n\\n\"\n",
    "    bill += \"Product\\t\\t\\t\\tQuantity\\tUnit Price\\tTotal Price\\n\"\n",
    "    total_bill = 0\n",
    "    for quantity, product, price in matches:\n",
    "        total_price = int(quantity) * float(price.replace(',', '.'))\n",
    "        total_bill += total_price\n",
    "        bill += f\"{product}\\t\\t{quantity}\\t\\t{price}\\t\\t{total_price}\\n\"\n",
    "    bill += f\"Total Bill: {total_bill}\"\n",
    "    return bill\n",
    "\n",
    "\n",
    "# Example usage\n",
    "text = \"I bought three Samsung smartphones 150 $ each, four kilos of fresh banana for 1,2 dollar a kilogram and one Hamburger with 4,5 dollar\"\n",
    "print(extract_info(text))"
   ]
  }
 ],
 "metadata": {
  "kernelspec": {
   "display_name": "Python 3 (ipykernel)",
   "language": "python",
   "name": "python3"
  },
  "language_info": {
   "codemirror_mode": {
    "name": "ipython",
    "version": 3
   },
   "file_extension": ".py",
   "mimetype": "text/x-python",
   "name": "python",
   "nbconvert_exporter": "python",
   "pygments_lexer": "ipython3",
   "version": "3.12.0"
  }
 },
 "nbformat": 4,
 "nbformat_minor": 5
}
